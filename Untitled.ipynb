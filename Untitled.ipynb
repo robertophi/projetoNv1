{
 "cells": [
  {
   "cell_type": "markdown",
   "metadata": {},
   "source": [
    "# Medição de fluxo no transporte público"
   ]
  },
  {
   "cell_type": "markdown",
   "metadata": {},
   "source": [
    "-Contar número de passageiros\n",
    "\n",
    "-Analisar coordenadas GPS\n",
    "\n",
    "-Manter os dados até chegar ao terminal / transmitir em tempo real"
   ]
  },
  {
   "cell_type": "code",
   "execution_count": null,
   "metadata": {
    "collapsed": true
   },
   "outputs": [],
   "source": []
  }
 ],
 "metadata": {
  "kernelspec": {
   "display_name": "Python 3",
   "language": "python",
   "name": "python3"
  },
  "language_info": {
   "codemirror_mode": {
    "name": "ipython",
    "version": 3
   },
   "file_extension": ".py",
   "mimetype": "text/x-python",
   "name": "python",
   "nbconvert_exporter": "python",
   "pygments_lexer": "ipython3",
   "version": "3.5.1"
  }
 },
 "nbformat": 4,
 "nbformat_minor": 0
}
